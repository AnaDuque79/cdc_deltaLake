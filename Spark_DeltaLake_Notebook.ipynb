{
  "nbformat": 4,
  "nbformat_minor": 0,
  "metadata": {
    "colab": {
      "name": "Spark_DeltaLake_Notebook.ipynb",
      "provenance": [],
      "collapsed_sections": [
        "Jq9d0x1OTh2N",
        "8Z0h3dF9Vg4X"
      ],
      "toc_visible": true
    },
    "kernelspec": {
      "name": "python3",
      "display_name": "Python 3"
    }
  },
  "cells": [
    {
      "cell_type": "markdown",
      "metadata": {
        "id": "Jq9d0x1OTh2N"
      },
      "source": [
        "# Prerrequisites"
      ]
    },
    {
      "cell_type": "markdown",
      "metadata": {
        "id": "2_DQBVj_KNvL"
      },
      "source": [
        "Installing Spark and Apache Kafka Library in VM\n",
        "\n",
        "\n",
        "---\n",
        "\n"
      ]
    },
    {
      "cell_type": "code",
      "metadata": {
        "id": "xEbGSM3_NM-z"
      },
      "source": [
        "!apt-get install openjdk-11-jdk-headless -qq > /dev/null\n",
        "!wget -q https://archive.apache.org/dist/spark/spark-3.0.2/spark-3.0.2-bin-hadoop3.2.tgz\n",
        "!tar xf spark-3.0.2-bin-hadoop3.2.tgz\n",
        "!pip -q install findspark"
      ],
      "execution_count": 1,
      "outputs": []
    },
    {
      "cell_type": "code",
      "metadata": {
        "id": "TP_HtvSAj4sI"
      },
      "source": [
        "import os\n",
        "os.environ[\"JAVA_HOME\"] = \"/usr/lib/jvm/java-11-openjdk-amd64\"\n",
        "os.environ[\"SPARK_HOME\"] = \"/content/spark-3.0.2-bin-hadoop3.2\"\n",
        "os.environ['PYSPARK_SUBMIT_ARGS'] = '--packages io.delta:delta-core_2.12:0.8.0,org.apache.spark:spark-sql-kafka-0-10_2.12:3.0.2 --conf spark.sql.extensions=io.delta.sql.DeltaSparkSessionExtension --conf spark.sql.catalog.spark_catalog=org.apache.spark.sql.delta.catalog.DeltaCatalog pyspark-shell'"
      ],
      "execution_count": 2,
      "outputs": []
    },
    {
      "cell_type": "code",
      "metadata": {
        "id": "x4-7fXZiGmqB"
      },
      "source": [
        "import findspark\n",
        "findspark.init()"
      ],
      "execution_count": 3,
      "outputs": []
    },
    {
      "cell_type": "code",
      "metadata": {
        "colab": {
          "base_uri": "https://localhost:8080/",
          "height": 35
        },
        "id": "JUFt6zUazELv",
        "outputId": "56591c69-05f7-4438-deb9-b79d043b835b"
      },
      "source": [
        "from pyspark.sql import SparkSession\r\n",
        "from pyspark.sql.functions import *\r\n",
        "\r\n",
        "# create the session\r\n",
        "spark = SparkSession \\\r\n",
        "        .builder \\\r\n",
        "        .master(\"local[*]\") \\\r\n",
        "        .getOrCreate()\r\n",
        "\r\n",
        "spark.version"
      ],
      "execution_count": 4,
      "outputs": [
        {
          "output_type": "execute_result",
          "data": {
            "application/vnd.google.colaboratory.intrinsic+json": {
              "type": "string"
            },
            "text/plain": [
              "'3.0.2'"
            ]
          },
          "metadata": {
            "tags": []
          },
          "execution_count": 4
        }
      ]
    },
    {
      "cell_type": "markdown",
      "metadata": {
        "id": "rxTATgt_zGz_"
      },
      "source": [
        "Creating tunnel</br>\r\n",
        "**To Check the Spark UI, open the URL printed by running the above command : https://######/jobs/, /SQL/**\r\n"
      ]
    },
    {
      "cell_type": "code",
      "metadata": {
        "id": "1dHtcuOHzHgi",
        "colab": {
          "base_uri": "https://localhost:8080/",
          "height": 34
        },
        "outputId": "e73f3961-0b1c-4d71-8635-5ee8cf5e7924"
      },
      "source": [
        " from google.colab.output import eval_js\r\n",
        " print(eval_js(\"google.colab.kernel.proxyPort(4040)\"))"
      ],
      "execution_count": 5,
      "outputs": [
        {
          "output_type": "stream",
          "text": [
            "https://ojoa47pzdja-496ff2e9c6d22116-4040-colab.googleusercontent.com/\n"
          ],
          "name": "stdout"
        }
      ]
    },
    {
      "cell_type": "code",
      "metadata": {
        "id": "1F-T-R9DE0OZ"
      },
      "source": [
        "BROKER_IP = \"ec2-100-24-117-5.compute-1.amazonaws.com\""
      ],
      "execution_count": 6,
      "outputs": []
    },
    {
      "cell_type": "markdown",
      "metadata": {
        "id": "8Z0h3dF9Vg4X"
      },
      "source": [
        "# Bronze"
      ]
    },
    {
      "cell_type": "markdown",
      "metadata": {
        "id": "e39V5pGYIiVs"
      },
      "source": [
        "## Customers Table"
      ]
    },
    {
      "cell_type": "code",
      "metadata": {
        "id": "j7kBgCREjEE1"
      },
      "source": [
        "from pyspark.sql.functions import *\r\n",
        "from pyspark.sql.types import StructType, StructField, StringType, IntegerType\r\n",
        "\r\n",
        "df_customers = spark \\\r\n",
        "  .readStream \\\r\n",
        "  .format(\"kafka\") \\\r\n",
        "  .option(\"kafka.bootstrap.servers\", BROKER_IP + \":39092\") \\\r\n",
        "  .option(\"subscribe\", \"stream_customers_json\") \\\r\n",
        "  .load()"
      ],
      "execution_count": 7,
      "outputs": []
    },
    {
      "cell_type": "code",
      "metadata": {
        "id": "87RITl98Fnju"
      },
      "source": [
        "schema_customers = StructType(\r\n",
        "    [\r\n",
        "     StructField('ID', StringType(), True),\r\n",
        "     StructField('NAME', StringType(), True),\r\n",
        "     StructField('__DELETED', StringType(), True)\r\n",
        "    ]\r\n",
        ")"
      ],
      "execution_count": 8,
      "outputs": []
    },
    {
      "cell_type": "code",
      "metadata": {
        "id": "gLGnwipTjqyG"
      },
      "source": [
        "dataset_customers = (\r\n",
        "    df_customers\r\n",
        "    .selectExpr(\"CAST(key AS STRING)\", \"CAST(value AS STRING)\")\r\n",
        "    .withColumn(\"value\", from_json(\"value\", schema_customers)) \\\r\n",
        "    .select(col('value.ID').cast(IntegerType()).alias(\"id\"), col(\"value.NAME\").alias(\"name\"))\r\n",
        "    .withColumn(\"timestamp_customer\", current_timestamp())\r\n",
        ")"
      ],
      "execution_count": 9,
      "outputs": []
    },
    {
      "cell_type": "code",
      "metadata": {
        "colab": {
          "base_uri": "https://localhost:8080/"
        },
        "id": "Y2mr559RcIQJ",
        "outputId": "f587838c-8c4d-4c45-a817-30fba3bb7231"
      },
      "source": [
        "dataset_customers.printSchema()"
      ],
      "execution_count": 10,
      "outputs": [
        {
          "output_type": "stream",
          "text": [
            "root\n",
            " |-- id: integer (nullable = true)\n",
            " |-- name: string (nullable = true)\n",
            " |-- timestamp_customer: timestamp (nullable = false)\n",
            "\n"
          ],
          "name": "stdout"
        }
      ]
    },
    {
      "cell_type": "code",
      "metadata": {
        "colab": {
          "base_uri": "https://localhost:8080/"
        },
        "id": "u_Tw5LSbdd-Q",
        "outputId": "b6752fe0-6456-47ad-f63c-a03a240f71d6"
      },
      "source": [
        "spark.sql(\"DROP TABLE IF EXISTS customers_bronze\")"
      ],
      "execution_count": 11,
      "outputs": [
        {
          "output_type": "execute_result",
          "data": {
            "text/plain": [
              "DataFrame[]"
            ]
          },
          "metadata": {
            "tags": []
          },
          "execution_count": 11
        }
      ]
    },
    {
      "cell_type": "code",
      "metadata": {
        "id": "qYuxh8ux3g6K"
      },
      "source": [
        "!rm -Rf /delta/customers_bronze"
      ],
      "execution_count": 12,
      "outputs": []
    },
    {
      "cell_type": "code",
      "metadata": {
        "id": "RmykKsAbcenQ",
        "colab": {
          "base_uri": "https://localhost:8080/"
        },
        "outputId": "bf4687f8-46c5-4742-b369-97b5bbeebaba"
      },
      "source": [
        "spark.sql(\"\"\"\r\n",
        "CREATE TABLE customers_bronze\r\n",
        "(id INT, name STRING, timestamp_customer TIMESTAMP)\r\n",
        "USING delta\r\n",
        "LOCATION '/delta/customers_bronze'\r\n",
        "\"\"\")"
      ],
      "execution_count": 13,
      "outputs": [
        {
          "output_type": "execute_result",
          "data": {
            "text/plain": [
              "DataFrame[]"
            ]
          },
          "metadata": {
            "tags": []
          },
          "execution_count": 13
        }
      ]
    },
    {
      "cell_type": "code",
      "metadata": {
        "id": "du-TSkOxWfR_"
      },
      "source": [
        "# https://docs.delta.io/latest/delta-update.html#-merge-in-streaming&language-python\r\n",
        "\r\n",
        "from delta.tables import *\r\n",
        "\r\n",
        "deltaTable_customers_bronze = DeltaTable.forPath(spark, \"/delta/customers_bronze\")\r\n",
        "\r\n",
        "# Function to upsert microBatchOutputDF into Delta table using merge\r\n",
        "def upsertCustomersToDelta(microBatchOutputDF, batchId):\r\n",
        "  deltaTable_customers_bronze.alias(\"t\").merge(\r\n",
        "      microBatchOutputDF.alias(\"s\"),\r\n",
        "      \"s.id = t.id\") \\\r\n",
        "      .whenMatchedUpdateAll() \\\r\n",
        "      .whenNotMatchedInsertAll() \\\r\n",
        "      .execute()  "
      ],
      "execution_count": 14,
      "outputs": []
    },
    {
      "cell_type": "code",
      "metadata": {
        "colab": {
          "base_uri": "https://localhost:8080/"
        },
        "id": "W9nnoxoMpChf",
        "outputId": "847fa67e-7f18-42bb-e0d3-b3416140059e"
      },
      "source": [
        "dataset_customers.writeStream \\\r\n",
        "  .format(\"delta\") \\\r\n",
        "  .foreachBatch(upsertCustomersToDelta) \\\r\n",
        "  .outputMode(\"update\") \\\r\n",
        "  .queryName(\"Customers_query\") \\\r\n",
        "  .start()"
      ],
      "execution_count": 15,
      "outputs": [
        {
          "output_type": "execute_result",
          "data": {
            "text/plain": [
              "<pyspark.sql.streaming.StreamingQuery at 0x7f78e9a8cad0>"
            ]
          },
          "metadata": {
            "tags": []
          },
          "execution_count": 15
        }
      ]
    },
    {
      "cell_type": "markdown",
      "metadata": {
        "id": "zaNxzXQ7ESdj"
      },
      "source": [
        "**Wait for a seconds until delta data is updated in the previous step**"
      ]
    },
    {
      "cell_type": "code",
      "metadata": {
        "colab": {
          "base_uri": "https://localhost:8080/"
        },
        "id": "gB6EZ84QIqoD",
        "outputId": "14981496-fe13-41fd-93d8-339cb7d661e9"
      },
      "source": [
        "spark.sql(\"SELECT * FROM customers_bronze LIMIT 10\").show(truncate = False)"
      ],
      "execution_count": 41,
      "outputs": [
        {
          "output_type": "stream",
          "text": [
            "+---+---------+----------------------+\n",
            "|id |name     |timestamp_customer    |\n",
            "+---+---------+----------------------+\n",
            "|1  |Alexander|2021-03-18 08:55:35.83|\n",
            "|4  |Honorato |2021-03-18 08:55:35.83|\n",
            "|2  |Lawrence |2021-03-18 08:55:35.83|\n",
            "|3  |Andrew   |2021-03-18 08:55:35.83|\n",
            "|5  |Darius   |2021-03-18 08:55:35.83|\n",
            "+---+---------+----------------------+\n",
            "\n"
          ],
          "name": "stdout"
        }
      ]
    },
    {
      "cell_type": "markdown",
      "metadata": {
        "id": "60paXk6LKdkT"
      },
      "source": [
        "## Orders Table"
      ]
    },
    {
      "cell_type": "code",
      "metadata": {
        "id": "25uwb0VWIpiV"
      },
      "source": [
        "from pyspark.sql.functions import *\r\n",
        "from pyspark.sql.types import StructType, StructField, StringType, IntegerType\r\n",
        "\r\n",
        "df_orders = spark \\\r\n",
        "  .readStream \\\r\n",
        "  .format(\"kafka\") \\\r\n",
        "  .option(\"kafka.bootstrap.servers\", BROKER_IP + \":39092\") \\\r\n",
        "  .option(\"subscribe\", \"stream_orders_json\") \\\r\n",
        "  .load()"
      ],
      "execution_count": 17,
      "outputs": []
    },
    {
      "cell_type": "code",
      "metadata": {
        "id": "sUXyxol8K8xc"
      },
      "source": [
        "schema_orders = StructType(\r\n",
        "    [\r\n",
        "     StructField('ID', StringType(), True),\r\n",
        "     StructField('PRODUCT', StringType(), True),\r\n",
        "     StructField('QUANTITY', StringType(), True),\r\n",
        "     StructField('CUSTOMER_ID', StringType(), True),\r\n",
        "     StructField('__DELETED', StringType(), True)\r\n",
        "    ]\r\n",
        ")"
      ],
      "execution_count": 18,
      "outputs": []
    },
    {
      "cell_type": "code",
      "metadata": {
        "id": "Mo4gEyaBLMqV"
      },
      "source": [
        "dataset_orders = (\r\n",
        "    df_orders\r\n",
        "    .selectExpr(\"CAST(key AS STRING)\", \"CAST(value AS STRING)\")\r\n",
        "    .withColumn(\"value\", from_json(\"value\", schema_orders)) \\\r\n",
        "    .select(col('value.ID').cast(IntegerType()).alias(\"id\"), col(\"value.PRODUCT\").cast(IntegerType()).alias(\"product_id\"), col(\"value.QUANTITY\").cast(IntegerType()).alias(\"quantity\"), col(\"value.CUSTOMER_ID\").cast(IntegerType()).alias(\"customer_id\"))\r\n",
        "    .withColumn(\"timestamp_order\", current_timestamp())\r\n",
        ")"
      ],
      "execution_count": 19,
      "outputs": []
    },
    {
      "cell_type": "code",
      "metadata": {
        "colab": {
          "base_uri": "https://localhost:8080/"
        },
        "id": "CYXHfgj3NgAO",
        "outputId": "4bd93ed5-1792-4342-f4f5-974a48c7a9a5"
      },
      "source": [
        "spark.sql(\"DROP TABLE IF EXISTS orders_bronze\")"
      ],
      "execution_count": 20,
      "outputs": [
        {
          "output_type": "execute_result",
          "data": {
            "text/plain": [
              "DataFrame[]"
            ]
          },
          "metadata": {
            "tags": []
          },
          "execution_count": 20
        }
      ]
    },
    {
      "cell_type": "code",
      "metadata": {
        "id": "cm3z67MFfkZf"
      },
      "source": [
        "!rm -Rf /delta/orders_bronze"
      ],
      "execution_count": 21,
      "outputs": []
    },
    {
      "cell_type": "code",
      "metadata": {
        "colab": {
          "base_uri": "https://localhost:8080/"
        },
        "id": "fg3Mx-kn8UYH",
        "outputId": "968755ea-77a2-45e6-b109-95feb88f018b"
      },
      "source": [
        "spark.sql(\"\"\"\r\n",
        "CREATE TABLE orders_bronze\r\n",
        "(id INT, product_id INT, quantity INT, customer_id INT, timestamp_order TIMESTAMP)\r\n",
        "USING delta\r\n",
        "LOCATION '/delta/orders_bronze'\r\n",
        "\"\"\")"
      ],
      "execution_count": 22,
      "outputs": [
        {
          "output_type": "execute_result",
          "data": {
            "text/plain": [
              "DataFrame[]"
            ]
          },
          "metadata": {
            "tags": []
          },
          "execution_count": 22
        }
      ]
    },
    {
      "cell_type": "code",
      "metadata": {
        "id": "eMnkAmDQ8kB-"
      },
      "source": [
        "# https://docs.delta.io/latest/delta-update.html#-merge-in-streaming&language-python\r\n",
        "\r\n",
        "from delta.tables import *\r\n",
        "\r\n",
        "deltaTable_orders_bronze = DeltaTable.forPath(spark, \"/delta/orders_bronze\")\r\n",
        "\r\n",
        "# Function to upsert microBatchOutputDF into Delta table using merge\r\n",
        "def upsertOrdersToDelta(microBatchOutputDF, batchId):\r\n",
        "  deltaTable_orders_bronze.alias(\"t\").merge(\r\n",
        "      microBatchOutputDF.alias(\"s\"),\r\n",
        "      \"s.id = t.id\") \\\r\n",
        "      .whenMatchedUpdateAll() \\\r\n",
        "      .whenNotMatchedInsertAll() \\\r\n",
        "      .execute()  "
      ],
      "execution_count": 23,
      "outputs": []
    },
    {
      "cell_type": "code",
      "metadata": {
        "colab": {
          "base_uri": "https://localhost:8080/"
        },
        "id": "DUKxuk34LnF_",
        "outputId": "98a2faaa-741e-416f-f6da-9918520e5dac"
      },
      "source": [
        "dataset_orders.writeStream \\\r\n",
        "  .format(\"delta\") \\\r\n",
        "  .foreachBatch(upsertOrdersToDelta) \\\r\n",
        "  .outputMode(\"update\") \\\r\n",
        "  .queryName(\"Orders_query\") \\\r\n",
        "  .start()"
      ],
      "execution_count": 24,
      "outputs": [
        {
          "output_type": "execute_result",
          "data": {
            "text/plain": [
              "<pyspark.sql.streaming.StreamingQuery at 0x7f78e9a32c50>"
            ]
          },
          "metadata": {
            "tags": []
          },
          "execution_count": 24
        }
      ]
    },
    {
      "cell_type": "markdown",
      "metadata": {
        "id": "Zqdvhyz8FYyp"
      },
      "source": [
        "**Wait for a seconds until delta data is updated in the previous step**"
      ]
    },
    {
      "cell_type": "code",
      "metadata": {
        "colab": {
          "base_uri": "https://localhost:8080/"
        },
        "id": "IwXniOKYLpOv",
        "outputId": "f6c1b75a-c552-4db9-a557-777b34074f1b"
      },
      "source": [
        "spark.sql(\"SELECT * FROM orders_bronze LIMIT 10\").show(truncate = False)"
      ],
      "execution_count": 25,
      "outputs": [
        {
          "output_type": "stream",
          "text": [
            "+---+----------+--------+-----------+---------------+\n",
            "|id |product_id|quantity|customer_id|timestamp_order|\n",
            "+---+----------+--------+-----------+---------------+\n",
            "+---+----------+--------+-----------+---------------+\n",
            "\n"
          ],
          "name": "stdout"
        }
      ]
    },
    {
      "cell_type": "markdown",
      "metadata": {
        "id": "p2a5wpdqMIMp"
      },
      "source": [
        "# Silver"
      ]
    },
    {
      "cell_type": "markdown",
      "metadata": {
        "id": "xBv0OX-nN6ZM"
      },
      "source": [
        "## Joining customers and orders"
      ]
    },
    {
      "cell_type": "markdown",
      "metadata": {
        "id": "XNBZvPnDH5q-"
      },
      "source": [
        "**Streaming from orders table**"
      ]
    },
    {
      "cell_type": "code",
      "metadata": {
        "id": "mwoewYu7H4qP"
      },
      "source": [
        "df_customers_delta = spark.read.format(\"delta\").load(\"/delta/customers_bronze\")\r\n"
      ],
      "execution_count": 26,
      "outputs": []
    },
    {
      "cell_type": "code",
      "metadata": {
        "id": "_nzF6DqWMHf2"
      },
      "source": [
        "df_orders_delta = (spark.readStream.format(\"delta\")  \r\n",
        "  .option(\"startingVersion\", \"0\")  \r\n",
        "  .load(\"/delta/orders_bronze\")\r\n",
        ")"
      ],
      "execution_count": 27,
      "outputs": []
    },
    {
      "cell_type": "code",
      "metadata": {
        "id": "RFSATUxOM74O"
      },
      "source": [
        "orders_customers = (df_customers_delta\r\n",
        "                    .join(df_orders_delta, df_customers_delta.id == df_orders_delta.customer_id)\r\n",
        "                    .select(df_orders_delta.customer_id, df_customers_delta.name, df_orders_delta.product_id, df_orders_delta.quantity, df_orders_delta.timestamp_order)                    \r\n",
        ")"
      ],
      "execution_count": 28,
      "outputs": []
    },
    {
      "cell_type": "code",
      "metadata": {
        "colab": {
          "base_uri": "https://localhost:8080/"
        },
        "id": "i1j_DW24SQU5",
        "outputId": "aee51fc8-583c-4467-a909-f928e95210a0"
      },
      "source": [
        "spark.sql(\"DROP TABLE IF EXISTS customers_orders_silver\")"
      ],
      "execution_count": 29,
      "outputs": [
        {
          "output_type": "execute_result",
          "data": {
            "text/plain": [
              "DataFrame[]"
            ]
          },
          "metadata": {
            "tags": []
          },
          "execution_count": 29
        }
      ]
    },
    {
      "cell_type": "code",
      "metadata": {
        "id": "00S1kr2-IACR"
      },
      "source": [
        "!rm -Rf /delta/customers_orders_silver"
      ],
      "execution_count": 30,
      "outputs": []
    },
    {
      "cell_type": "code",
      "metadata": {
        "id": "q8WzI2JmXbSo",
        "colab": {
          "base_uri": "https://localhost:8080/"
        },
        "outputId": "d35003c5-2e8d-4cc1-d985-8d18a9c72d65"
      },
      "source": [
        "spark.sql(\"\"\"\r\n",
        "CREATE TABLE IF NOT EXISTS customers_orders_silver \r\n",
        "(customer_id INT, name STRING, product_id INT, quantity INT, timestamp_order TIMESTAMP) \r\n",
        "USING DELTA \r\n",
        "LOCATION '/delta/customers_orders_silver'\r\n",
        "\"\"\")"
      ],
      "execution_count": 31,
      "outputs": [
        {
          "output_type": "execute_result",
          "data": {
            "text/plain": [
              "DataFrame[]"
            ]
          },
          "metadata": {
            "tags": []
          },
          "execution_count": 31
        }
      ]
    },
    {
      "cell_type": "code",
      "metadata": {
        "colab": {
          "base_uri": "https://localhost:8080/"
        },
        "id": "vHLDrcT0N6J3",
        "outputId": "a9ef0587-e1e9-4abd-8c7c-af43ee63bb61"
      },
      "source": [
        "(orders_customers.writeStream\r\n",
        "  .format(\"delta\")\r\n",
        "  .outputMode(\"append\")\r\n",
        "  .option(\"checkpointLocation\", \"/delta/customers_orders_silver/_checkpoints/customers_orders_silver-json\")\r\n",
        "  .queryName(\"Join_to_silver_query\")\r\n",
        "  .start(\"/delta/customers_orders_silver\"))"
      ],
      "execution_count": 32,
      "outputs": [
        {
          "output_type": "execute_result",
          "data": {
            "text/plain": [
              "<pyspark.sql.streaming.StreamingQuery at 0x7f78e9a980d0>"
            ]
          },
          "metadata": {
            "tags": []
          },
          "execution_count": 32
        }
      ]
    },
    {
      "cell_type": "markdown",
      "metadata": {
        "id": "OHzbmgS2HJb_"
      },
      "source": [
        "**Wait for a seconds until delta data is updated in the previous step**"
      ]
    },
    {
      "cell_type": "code",
      "metadata": {
        "colab": {
          "base_uri": "https://localhost:8080/"
        },
        "id": "QzmMLN1QKlAx",
        "outputId": "1f180cb3-b3d8-48ba-f3dd-081645f4dcad"
      },
      "source": [
        "spark.sql(\"SELECT * FROM customers_orders_silver LIMIT 10\").show(truncate = False)"
      ],
      "execution_count": 33,
      "outputs": [
        {
          "output_type": "stream",
          "text": [
            "+-----------+----+----------+--------+---------------+\n",
            "|customer_id|name|product_id|quantity|timestamp_order|\n",
            "+-----------+----+----------+--------+---------------+\n",
            "+-----------+----+----------+--------+---------------+\n",
            "\n"
          ],
          "name": "stdout"
        }
      ]
    },
    {
      "cell_type": "markdown",
      "metadata": {
        "id": "y4DlabdSN9-4"
      },
      "source": [
        "## Updating customers to silver table"
      ]
    },
    {
      "cell_type": "markdown",
      "metadata": {
        "id": "k_KR0o5QPmwq"
      },
      "source": [
        "**Updates in customer tables won't be propagated into customers_orders_silver table. </br>To fix that, it's necessary to merge customers into customers_orders_silver table**"
      ]
    },
    {
      "cell_type": "code",
      "metadata": {
        "id": "lLCfcexjKrub"
      },
      "source": [
        "# https://docs.delta.io/latest/delta-update.html#-merge-in-streaming&language-python\r\n",
        "\r\n",
        "from delta.tables import *\r\n",
        "\r\n",
        "deltaTable_customers_orders_silver = DeltaTable.forPath(spark, \"/delta/customers_orders_silver\")\r\n",
        "\r\n",
        "# Function to upsert microBatchOutputDF into Delta table using merge\r\n",
        "def upsertToDelta(microBatchOutputDF, batchId):\r\n",
        "\r\n",
        "  latestChangeForEachKey = microBatchOutputDF \\\r\n",
        "    .selectExpr(\"id\", \"struct(name, timestamp_customer) as otherCols\") \\\r\n",
        "    .groupBy(\"id\") \\\r\n",
        "    .agg(max(\"otherCols\").alias(\"latest\")) \\\r\n",
        "    .select(\"id\", \"latest.*\") \\\r\n",
        "\r\n",
        "  deltaTable_customers_orders_silver.alias(\"t\").merge(\r\n",
        "      latestChangeForEachKey.alias(\"s\"),\r\n",
        "      \"s.id = t.customer_id\") \\\r\n",
        "    .whenMatchedUpdate(\r\n",
        "      set = {\r\n",
        "        \"name\": \"s.name\"\r\n",
        "      }\r\n",
        "    ).whenNotMatchedInsert(\r\n",
        "      values = {\r\n",
        "        \"customer_id\": \"s.id\",\r\n",
        "        \"name\": \"s.name\",\r\n",
        "        \"product_id\": \"null\",\r\n",
        "        \"quantity\": \"null\",\r\n",
        "        \"timestamp_order\": \"null\"\r\n",
        "      }\r\n",
        "    ).execute()"
      ],
      "execution_count": 34,
      "outputs": []
    },
    {
      "cell_type": "code",
      "metadata": {
        "id": "vMa-E_34SvbI"
      },
      "source": [
        "df_customers_delta_streaming = (spark.readStream.format(\"delta\")  \r\n",
        "  .option(\"startingVersion\", \"0\")\r\n",
        "  .option(\"ignoreChanges\", True)\r\n",
        "  .load(\"/delta/customers_bronze\")\r\n",
        ")"
      ],
      "execution_count": 35,
      "outputs": []
    },
    {
      "cell_type": "code",
      "metadata": {
        "colab": {
          "base_uri": "https://localhost:8080/"
        },
        "id": "lB_GgtgqQ-5H",
        "outputId": "875680cd-6154-4952-e228-5270d5b6ef6f"
      },
      "source": [
        "# Write the output of a streaming aggregation query into Delta table\r\n",
        "df_customers_delta_streaming.writeStream \\\r\n",
        "  .format(\"delta\") \\\r\n",
        "  .foreachBatch(upsertToDelta) \\\r\n",
        "  .outputMode(\"update\") \\\r\n",
        "  .queryName(\"Customers_to_silver_query\") \\\r\n",
        "  .start()"
      ],
      "execution_count": 36,
      "outputs": [
        {
          "output_type": "execute_result",
          "data": {
            "text/plain": [
              "<pyspark.sql.streaming.StreamingQuery at 0x7f78e9a98f50>"
            ]
          },
          "metadata": {
            "tags": []
          },
          "execution_count": 36
        }
      ]
    },
    {
      "cell_type": "code",
      "metadata": {
        "colab": {
          "base_uri": "https://localhost:8080/"
        },
        "id": "pFTB8L1AS4bt",
        "outputId": "32cd9155-f26f-44a3-98ca-d8ce2a4adb8d"
      },
      "source": [
        "spark.sql(\"SELECT * FROM customers_orders_silver\").show(truncate = False)"
      ],
      "execution_count": 37,
      "outputs": [
        {
          "output_type": "stream",
          "text": [
            "+-----------+----+----------+--------+---------------+\n",
            "|customer_id|name|product_id|quantity|timestamp_order|\n",
            "+-----------+----+----------+--------+---------------+\n",
            "+-----------+----+----------+--------+---------------+\n",
            "\n"
          ],
          "name": "stdout"
        }
      ]
    },
    {
      "cell_type": "markdown",
      "metadata": {
        "id": "8uuGfkL6KERp"
      },
      "source": [
        "# Gold"
      ]
    },
    {
      "cell_type": "code",
      "metadata": {
        "id": "VVdgm-sBS_Dn",
        "colab": {
          "base_uri": "https://localhost:8080/"
        },
        "outputId": "84b9b2fe-6f9b-4183-9dcc-26be3d45354f"
      },
      "source": [
        "customer_grouped = spark.sql(\"\"\"\r\n",
        "SELECT customer_id, name, count(*) as count FROM customers_orders_silver\r\n",
        "GROUP BY customer_id, name\r\n",
        "\"\"\")\r\n",
        "\r\n",
        "customer_grouped.show()"
      ],
      "execution_count": 43,
      "outputs": [
        {
          "output_type": "stream",
          "text": [
            "+-----------+---------+-----+\n",
            "|customer_id|     name|count|\n",
            "+-----------+---------+-----+\n",
            "|          4| Honorato|   32|\n",
            "|          2| Lawrence|   19|\n",
            "|          1|Alexander|   13|\n",
            "|          5|   Darius|   17|\n",
            "|          3|   Andrew|   19|\n",
            "+-----------+---------+-----+\n",
            "\n"
          ],
          "name": "stdout"
        }
      ]
    },
    {
      "cell_type": "code",
      "metadata": {
        "colab": {
          "base_uri": "https://localhost:8080/",
          "height": 542
        },
        "id": "RBnxtHJRMhwm",
        "outputId": "2c9a3cfb-0b32-4ebc-b3f5-2f73314e6015"
      },
      "source": [
        "import plotly.express as px\r\n",
        "\r\n",
        "fig = px.pie(customer_grouped.toPandas(), values='count', names='name', title='By Customer')\r\n",
        "fig.show()"
      ],
      "execution_count": 44,
      "outputs": [
        {
          "output_type": "display_data",
          "data": {
            "text/html": [
              "<html>\n",
              "<head><meta charset=\"utf-8\" /></head>\n",
              "<body>\n",
              "    <div>\n",
              "            <script src=\"https://cdnjs.cloudflare.com/ajax/libs/mathjax/2.7.5/MathJax.js?config=TeX-AMS-MML_SVG\"></script><script type=\"text/javascript\">if (window.MathJax) {MathJax.Hub.Config({SVG: {font: \"STIX-Web\"}});}</script>\n",
              "                <script type=\"text/javascript\">window.PlotlyConfig = {MathJaxConfig: 'local'};</script>\n",
              "        <script src=\"https://cdn.plot.ly/plotly-latest.min.js\"></script>    \n",
              "            <div id=\"ede5fedf-34b3-4129-8a42-1510b446860a\" class=\"plotly-graph-div\" style=\"height:525px; width:100%;\"></div>\n",
              "            <script type=\"text/javascript\">\n",
              "                \n",
              "                    window.PLOTLYENV=window.PLOTLYENV || {};\n",
              "                    \n",
              "                if (document.getElementById(\"ede5fedf-34b3-4129-8a42-1510b446860a\")) {\n",
              "                    Plotly.newPlot(\n",
              "                        'ede5fedf-34b3-4129-8a42-1510b446860a',\n",
              "                        [{\"domain\": {\"x\": [0.0, 1.0], \"y\": [0.0, 1.0]}, \"hoverlabel\": {\"namelength\": 0}, \"hovertemplate\": \"name=%{label}<br>count=%{value}\", \"labels\": [\"Honorato\", \"Lawrence\", \"Alexander\", \"Darius\", \"Andrew\"], \"legendgroup\": \"\", \"name\": \"\", \"showlegend\": true, \"type\": \"pie\", \"values\": [32, 19, 13, 17, 19]}],\n",
              "                        {\"legend\": {\"tracegroupgap\": 0}, \"template\": {\"data\": {\"bar\": [{\"error_x\": {\"color\": \"#2a3f5f\"}, \"error_y\": {\"color\": \"#2a3f5f\"}, \"marker\": {\"line\": {\"color\": \"#E5ECF6\", \"width\": 0.5}}, \"type\": \"bar\"}], \"barpolar\": [{\"marker\": {\"line\": {\"color\": \"#E5ECF6\", \"width\": 0.5}}, \"type\": \"barpolar\"}], \"carpet\": [{\"aaxis\": {\"endlinecolor\": \"#2a3f5f\", \"gridcolor\": \"white\", \"linecolor\": \"white\", \"minorgridcolor\": \"white\", \"startlinecolor\": \"#2a3f5f\"}, \"baxis\": {\"endlinecolor\": \"#2a3f5f\", \"gridcolor\": \"white\", \"linecolor\": \"white\", \"minorgridcolor\": \"white\", \"startlinecolor\": \"#2a3f5f\"}, \"type\": \"carpet\"}], \"choropleth\": [{\"colorbar\": {\"outlinewidth\": 0, \"ticks\": \"\"}, \"type\": \"choropleth\"}], \"contour\": [{\"colorbar\": {\"outlinewidth\": 0, \"ticks\": \"\"}, \"colorscale\": [[0.0, \"#0d0887\"], [0.1111111111111111, \"#46039f\"], [0.2222222222222222, \"#7201a8\"], [0.3333333333333333, \"#9c179e\"], [0.4444444444444444, \"#bd3786\"], [0.5555555555555556, \"#d8576b\"], [0.6666666666666666, \"#ed7953\"], [0.7777777777777778, \"#fb9f3a\"], [0.8888888888888888, \"#fdca26\"], [1.0, \"#f0f921\"]], \"type\": \"contour\"}], \"contourcarpet\": [{\"colorbar\": {\"outlinewidth\": 0, \"ticks\": \"\"}, \"type\": \"contourcarpet\"}], \"heatmap\": [{\"colorbar\": {\"outlinewidth\": 0, \"ticks\": \"\"}, \"colorscale\": [[0.0, \"#0d0887\"], [0.1111111111111111, \"#46039f\"], [0.2222222222222222, \"#7201a8\"], [0.3333333333333333, \"#9c179e\"], [0.4444444444444444, \"#bd3786\"], [0.5555555555555556, \"#d8576b\"], [0.6666666666666666, \"#ed7953\"], [0.7777777777777778, \"#fb9f3a\"], [0.8888888888888888, \"#fdca26\"], [1.0, \"#f0f921\"]], \"type\": \"heatmap\"}], \"heatmapgl\": [{\"colorbar\": {\"outlinewidth\": 0, \"ticks\": \"\"}, \"colorscale\": [[0.0, \"#0d0887\"], [0.1111111111111111, \"#46039f\"], [0.2222222222222222, \"#7201a8\"], [0.3333333333333333, \"#9c179e\"], [0.4444444444444444, \"#bd3786\"], [0.5555555555555556, \"#d8576b\"], [0.6666666666666666, \"#ed7953\"], [0.7777777777777778, \"#fb9f3a\"], [0.8888888888888888, \"#fdca26\"], [1.0, \"#f0f921\"]], \"type\": \"heatmapgl\"}], \"histogram\": [{\"marker\": {\"colorbar\": {\"outlinewidth\": 0, \"ticks\": \"\"}}, \"type\": \"histogram\"}], \"histogram2d\": [{\"colorbar\": {\"outlinewidth\": 0, \"ticks\": \"\"}, \"colorscale\": [[0.0, \"#0d0887\"], [0.1111111111111111, \"#46039f\"], [0.2222222222222222, \"#7201a8\"], [0.3333333333333333, \"#9c179e\"], [0.4444444444444444, \"#bd3786\"], [0.5555555555555556, \"#d8576b\"], [0.6666666666666666, \"#ed7953\"], [0.7777777777777778, \"#fb9f3a\"], [0.8888888888888888, \"#fdca26\"], [1.0, \"#f0f921\"]], \"type\": \"histogram2d\"}], \"histogram2dcontour\": [{\"colorbar\": {\"outlinewidth\": 0, \"ticks\": \"\"}, \"colorscale\": [[0.0, \"#0d0887\"], [0.1111111111111111, \"#46039f\"], [0.2222222222222222, \"#7201a8\"], [0.3333333333333333, \"#9c179e\"], [0.4444444444444444, \"#bd3786\"], [0.5555555555555556, \"#d8576b\"], [0.6666666666666666, \"#ed7953\"], [0.7777777777777778, \"#fb9f3a\"], [0.8888888888888888, \"#fdca26\"], [1.0, \"#f0f921\"]], \"type\": \"histogram2dcontour\"}], \"mesh3d\": [{\"colorbar\": {\"outlinewidth\": 0, \"ticks\": \"\"}, \"type\": \"mesh3d\"}], \"parcoords\": [{\"line\": {\"colorbar\": {\"outlinewidth\": 0, \"ticks\": \"\"}}, \"type\": \"parcoords\"}], \"pie\": [{\"automargin\": true, \"type\": \"pie\"}], \"scatter\": [{\"marker\": {\"colorbar\": {\"outlinewidth\": 0, \"ticks\": \"\"}}, \"type\": \"scatter\"}], \"scatter3d\": [{\"line\": {\"colorbar\": {\"outlinewidth\": 0, \"ticks\": \"\"}}, \"marker\": {\"colorbar\": {\"outlinewidth\": 0, \"ticks\": \"\"}}, \"type\": \"scatter3d\"}], \"scattercarpet\": [{\"marker\": {\"colorbar\": {\"outlinewidth\": 0, \"ticks\": \"\"}}, \"type\": \"scattercarpet\"}], \"scattergeo\": [{\"marker\": {\"colorbar\": {\"outlinewidth\": 0, \"ticks\": \"\"}}, \"type\": \"scattergeo\"}], \"scattergl\": [{\"marker\": {\"colorbar\": {\"outlinewidth\": 0, \"ticks\": \"\"}}, \"type\": \"scattergl\"}], \"scattermapbox\": [{\"marker\": {\"colorbar\": {\"outlinewidth\": 0, \"ticks\": \"\"}}, \"type\": \"scattermapbox\"}], \"scatterpolar\": [{\"marker\": {\"colorbar\": {\"outlinewidth\": 0, \"ticks\": \"\"}}, \"type\": \"scatterpolar\"}], \"scatterpolargl\": [{\"marker\": {\"colorbar\": {\"outlinewidth\": 0, \"ticks\": \"\"}}, \"type\": \"scatterpolargl\"}], \"scatterternary\": [{\"marker\": {\"colorbar\": {\"outlinewidth\": 0, \"ticks\": \"\"}}, \"type\": \"scatterternary\"}], \"surface\": [{\"colorbar\": {\"outlinewidth\": 0, \"ticks\": \"\"}, \"colorscale\": [[0.0, \"#0d0887\"], [0.1111111111111111, \"#46039f\"], [0.2222222222222222, \"#7201a8\"], [0.3333333333333333, \"#9c179e\"], [0.4444444444444444, \"#bd3786\"], [0.5555555555555556, \"#d8576b\"], [0.6666666666666666, \"#ed7953\"], [0.7777777777777778, \"#fb9f3a\"], [0.8888888888888888, \"#fdca26\"], [1.0, \"#f0f921\"]], \"type\": \"surface\"}], \"table\": [{\"cells\": {\"fill\": {\"color\": \"#EBF0F8\"}, \"line\": {\"color\": \"white\"}}, \"header\": {\"fill\": {\"color\": \"#C8D4E3\"}, \"line\": {\"color\": \"white\"}}, \"type\": \"table\"}]}, \"layout\": {\"annotationdefaults\": {\"arrowcolor\": \"#2a3f5f\", \"arrowhead\": 0, \"arrowwidth\": 1}, \"coloraxis\": {\"colorbar\": {\"outlinewidth\": 0, \"ticks\": \"\"}}, \"colorscale\": {\"diverging\": [[0, \"#8e0152\"], [0.1, \"#c51b7d\"], [0.2, \"#de77ae\"], [0.3, \"#f1b6da\"], [0.4, \"#fde0ef\"], [0.5, \"#f7f7f7\"], [0.6, \"#e6f5d0\"], [0.7, \"#b8e186\"], [0.8, \"#7fbc41\"], [0.9, \"#4d9221\"], [1, \"#276419\"]], \"sequential\": [[0.0, \"#0d0887\"], [0.1111111111111111, \"#46039f\"], [0.2222222222222222, \"#7201a8\"], [0.3333333333333333, \"#9c179e\"], [0.4444444444444444, \"#bd3786\"], [0.5555555555555556, \"#d8576b\"], [0.6666666666666666, \"#ed7953\"], [0.7777777777777778, \"#fb9f3a\"], [0.8888888888888888, \"#fdca26\"], [1.0, \"#f0f921\"]], \"sequentialminus\": [[0.0, \"#0d0887\"], [0.1111111111111111, \"#46039f\"], [0.2222222222222222, \"#7201a8\"], [0.3333333333333333, \"#9c179e\"], [0.4444444444444444, \"#bd3786\"], [0.5555555555555556, \"#d8576b\"], [0.6666666666666666, \"#ed7953\"], [0.7777777777777778, \"#fb9f3a\"], [0.8888888888888888, \"#fdca26\"], [1.0, \"#f0f921\"]]}, \"colorway\": [\"#636efa\", \"#EF553B\", \"#00cc96\", \"#ab63fa\", \"#FFA15A\", \"#19d3f3\", \"#FF6692\", \"#B6E880\", \"#FF97FF\", \"#FECB52\"], \"font\": {\"color\": \"#2a3f5f\"}, \"geo\": {\"bgcolor\": \"white\", \"lakecolor\": \"white\", \"landcolor\": \"#E5ECF6\", \"showlakes\": true, \"showland\": true, \"subunitcolor\": \"white\"}, \"hoverlabel\": {\"align\": \"left\"}, \"hovermode\": \"closest\", \"mapbox\": {\"style\": \"light\"}, \"paper_bgcolor\": \"white\", \"plot_bgcolor\": \"#E5ECF6\", \"polar\": {\"angularaxis\": {\"gridcolor\": \"white\", \"linecolor\": \"white\", \"ticks\": \"\"}, \"bgcolor\": \"#E5ECF6\", \"radialaxis\": {\"gridcolor\": \"white\", \"linecolor\": \"white\", \"ticks\": \"\"}}, \"scene\": {\"xaxis\": {\"backgroundcolor\": \"#E5ECF6\", \"gridcolor\": \"white\", \"gridwidth\": 2, \"linecolor\": \"white\", \"showbackground\": true, \"ticks\": \"\", \"zerolinecolor\": \"white\"}, \"yaxis\": {\"backgroundcolor\": \"#E5ECF6\", \"gridcolor\": \"white\", \"gridwidth\": 2, \"linecolor\": \"white\", \"showbackground\": true, \"ticks\": \"\", \"zerolinecolor\": \"white\"}, \"zaxis\": {\"backgroundcolor\": \"#E5ECF6\", \"gridcolor\": \"white\", \"gridwidth\": 2, \"linecolor\": \"white\", \"showbackground\": true, \"ticks\": \"\", \"zerolinecolor\": \"white\"}}, \"shapedefaults\": {\"line\": {\"color\": \"#2a3f5f\"}}, \"ternary\": {\"aaxis\": {\"gridcolor\": \"white\", \"linecolor\": \"white\", \"ticks\": \"\"}, \"baxis\": {\"gridcolor\": \"white\", \"linecolor\": \"white\", \"ticks\": \"\"}, \"bgcolor\": \"#E5ECF6\", \"caxis\": {\"gridcolor\": \"white\", \"linecolor\": \"white\", \"ticks\": \"\"}}, \"title\": {\"x\": 0.05}, \"xaxis\": {\"automargin\": true, \"gridcolor\": \"white\", \"linecolor\": \"white\", \"ticks\": \"\", \"title\": {\"standoff\": 15}, \"zerolinecolor\": \"white\", \"zerolinewidth\": 2}, \"yaxis\": {\"automargin\": true, \"gridcolor\": \"white\", \"linecolor\": \"white\", \"ticks\": \"\", \"title\": {\"standoff\": 15}, \"zerolinecolor\": \"white\", \"zerolinewidth\": 2}}}, \"title\": {\"text\": \"By Customer\"}},\n",
              "                        {\"responsive\": true}\n",
              "                    ).then(function(){\n",
              "                            \n",
              "var gd = document.getElementById('ede5fedf-34b3-4129-8a42-1510b446860a');\n",
              "var x = new MutationObserver(function (mutations, observer) {{\n",
              "        var display = window.getComputedStyle(gd).display;\n",
              "        if (!display || display === 'none') {{\n",
              "            console.log([gd, 'removed!']);\n",
              "            Plotly.purge(gd);\n",
              "            observer.disconnect();\n",
              "        }}\n",
              "}});\n",
              "\n",
              "// Listen for the removal of the full notebook cells\n",
              "var notebookContainer = gd.closest('#notebook-container');\n",
              "if (notebookContainer) {{\n",
              "    x.observe(notebookContainer, {childList: true});\n",
              "}}\n",
              "\n",
              "// Listen for the clearing of the current output cell\n",
              "var outputEl = gd.closest('.output');\n",
              "if (outputEl) {{\n",
              "    x.observe(outputEl, {childList: true});\n",
              "}}\n",
              "\n",
              "                        })\n",
              "                };\n",
              "                \n",
              "            </script>\n",
              "        </div>\n",
              "</body>\n",
              "</html>"
            ]
          },
          "metadata": {
            "tags": []
          }
        }
      ]
    },
    {
      "cell_type": "markdown",
      "metadata": {
        "id": "ZGYExLfq6ga4"
      },
      "source": [
        "**Stoping all Streaming queries**"
      ]
    },
    {
      "cell_type": "code",
      "metadata": {
        "id": "cVUfg6qW6eQY"
      },
      "source": [
        "#for query in spark.streams.active:\r\n",
        "#  query.stop()"
      ],
      "execution_count": 40,
      "outputs": []
    },
    {
      "cell_type": "code",
      "metadata": {
        "id": "RKnko-Tt6g-X"
      },
      "source": [
        ""
      ],
      "execution_count": 40,
      "outputs": []
    }
  ]
}